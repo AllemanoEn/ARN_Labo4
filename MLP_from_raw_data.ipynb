{
  "cells": [
    {
      "cell_type": "markdown",
      "metadata": {
        "id": "Ic-cqm0tbUc3"
      },
      "source": [
        "# Multilayer Perceptron from raw data\n",
        "This notebook will guide you through the use of the `keras` package to train a multilayer perceptron for handwritten digits classification. You are going to use the `mnist` dataset from LeCun et al. 1998"
      ]
    },
    {
      "cell_type": "markdown",
      "metadata": {
        "id": "ND1Cf9lXbUc6"
      },
      "source": [
        "## Loading the packages"
      ]
    },
    {
      "cell_type": "code",
      "execution_count": 59,
      "metadata": {
        "id": "Pvq0DhLtbUdE"
      },
      "outputs": [
        {
          "name": "stdout",
          "output_type": "stream",
          "text": [
            "Requirement already satisfied: tensorflow in c:\\users\\jetca\\miniconda3\\envs\\isd\\lib\\site-packages (2.8.0)\n",
            "Requirement already satisfied: tensorflow-io-gcs-filesystem>=0.23.1 in c:\\users\\jetca\\miniconda3\\envs\\isd\\lib\\site-packages (from tensorflow) (0.25.0)\n",
            "Requirement already satisfied: grpcio<2.0,>=1.24.3 in c:\\users\\jetca\\miniconda3\\envs\\isd\\lib\\site-packages (from tensorflow) (1.46.0)\n",
            "Requirement already satisfied: keras<2.9,>=2.8.0rc0 in c:\\users\\jetca\\miniconda3\\envs\\isd\\lib\\site-packages (from tensorflow) (2.8.0)\n",
            "Requirement already satisfied: wrapt>=1.11.0 in c:\\users\\jetca\\miniconda3\\envs\\isd\\lib\\site-packages (from tensorflow) (1.14.1)\n",
            "Requirement already satisfied: tensorboard<2.9,>=2.8 in c:\\users\\jetca\\miniconda3\\envs\\isd\\lib\\site-packages (from tensorflow) (2.8.0)\n",
            "Requirement already satisfied: six>=1.12.0 in c:\\users\\jetca\\miniconda3\\envs\\isd\\lib\\site-packages (from tensorflow) (1.15.0)\n",
            "Requirement already satisfied: gast>=0.2.1 in c:\\users\\jetca\\miniconda3\\envs\\isd\\lib\\site-packages (from tensorflow) (0.5.3)\n",
            "Requirement already satisfied: termcolor>=1.1.0 in c:\\users\\jetca\\miniconda3\\envs\\isd\\lib\\site-packages (from tensorflow) (1.1.0)\n",
            "Requirement already satisfied: astunparse>=1.6.0 in c:\\users\\jetca\\miniconda3\\envs\\isd\\lib\\site-packages (from tensorflow) (1.6.3)\n",
            "Requirement already satisfied: tf-estimator-nightly==2.8.0.dev2021122109 in c:\\users\\jetca\\miniconda3\\envs\\isd\\lib\\site-packages (from tensorflow) (2.8.0.dev2021122109)\n",
            "Requirement already satisfied: typing-extensions>=3.6.6 in c:\\users\\jetca\\miniconda3\\envs\\isd\\lib\\site-packages (from tensorflow) (4.2.0)\n",
            "Requirement already satisfied: google-pasta>=0.1.1 in c:\\users\\jetca\\miniconda3\\envs\\isd\\lib\\site-packages (from tensorflow) (0.2.0)\n",
            "Requirement already satisfied: flatbuffers>=1.12 in c:\\users\\jetca\\miniconda3\\envs\\isd\\lib\\site-packages (from tensorflow) (2.0)\n",
            "Requirement already satisfied: numpy>=1.20 in c:\\users\\jetca\\miniconda3\\envs\\isd\\lib\\site-packages (from tensorflow) (1.20.1)\n",
            "Requirement already satisfied: opt-einsum>=2.3.2 in c:\\users\\jetca\\miniconda3\\envs\\isd\\lib\\site-packages (from tensorflow) (3.3.0)\n",
            "Requirement already satisfied: setuptools in c:\\users\\jetca\\miniconda3\\envs\\isd\\lib\\site-packages (from tensorflow) (52.0.0.post20210125)\n",
            "Requirement already satisfied: h5py>=2.9.0 in c:\\users\\jetca\\miniconda3\\envs\\isd\\lib\\site-packages (from tensorflow) (3.6.0)\n",
            "Requirement already satisfied: keras-preprocessing>=1.1.1 in c:\\users\\jetca\\miniconda3\\envs\\isd\\lib\\site-packages (from tensorflow) (1.1.2)\n",
            "Requirement already satisfied: libclang>=9.0.1 in c:\\users\\jetca\\miniconda3\\envs\\isd\\lib\\site-packages (from tensorflow) (14.0.1)\n",
            "Requirement already satisfied: protobuf>=3.9.2 in c:\\users\\jetca\\miniconda3\\envs\\isd\\lib\\site-packages (from tensorflow) (3.20.1)\n",
            "Requirement already satisfied: absl-py>=0.4.0 in c:\\users\\jetca\\miniconda3\\envs\\isd\\lib\\site-packages (from tensorflow) (1.0.0)\n",
            "Requirement already satisfied: wheel<1.0,>=0.23.0 in c:\\users\\jetca\\miniconda3\\envs\\isd\\lib\\site-packages (from astunparse>=1.6.0->tensorflow) (0.36.2)\n",
            "Requirement already satisfied: markdown>=2.6.8 in c:\\users\\jetca\\miniconda3\\envs\\isd\\lib\\site-packages (from tensorboard<2.9,>=2.8->tensorflow) (3.3.7)\n",
            "Requirement already satisfied: tensorboard-data-server<0.7.0,>=0.6.0 in c:\\users\\jetca\\miniconda3\\envs\\isd\\lib\\site-packages (from tensorboard<2.9,>=2.8->tensorflow) (0.6.1)\n",
            "Requirement already satisfied: werkzeug>=0.11.15 in c:\\users\\jetca\\miniconda3\\envs\\isd\\lib\\site-packages (from tensorboard<2.9,>=2.8->tensorflow) (2.1.2)\n",
            "Requirement already satisfied: google-auth<3,>=1.6.3 in c:\\users\\jetca\\miniconda3\\envs\\isd\\lib\\site-packages (from tensorboard<2.9,>=2.8->tensorflow) (2.6.6)\n",
            "Requirement already satisfied: google-auth-oauthlib<0.5,>=0.4.1 in c:\\users\\jetca\\miniconda3\\envs\\isd\\lib\\site-packages (from tensorboard<2.9,>=2.8->tensorflow) (0.4.6)\n",
            "Requirement already satisfied: tensorboard-plugin-wit>=1.6.0 in c:\\users\\jetca\\miniconda3\\envs\\isd\\lib\\site-packages (from tensorboard<2.9,>=2.8->tensorflow) (1.8.1)\n",
            "Requirement already satisfied: requests<3,>=2.21.0 in c:\\users\\jetca\\miniconda3\\envs\\isd\\lib\\site-packages (from tensorboard<2.9,>=2.8->tensorflow) (2.27.1)\n",
            "Requirement already satisfied: pyasn1-modules>=0.2.1 in c:\\users\\jetca\\miniconda3\\envs\\isd\\lib\\site-packages (from google-auth<3,>=1.6.3->tensorboard<2.9,>=2.8->tensorflow) (0.2.8)\n",
            "Requirement already satisfied: rsa<5,>=3.1.4 in c:\\users\\jetca\\miniconda3\\envs\\isd\\lib\\site-packages (from google-auth<3,>=1.6.3->tensorboard<2.9,>=2.8->tensorflow) (4.8)\n",
            "Requirement already satisfied: cachetools<6.0,>=2.0.0 in c:\\users\\jetca\\miniconda3\\envs\\isd\\lib\\site-packages (from google-auth<3,>=1.6.3->tensorboard<2.9,>=2.8->tensorflow) (5.0.0)\n",
            "Requirement already satisfied: requests-oauthlib>=0.7.0 in c:\\users\\jetca\\miniconda3\\envs\\isd\\lib\\site-packages (from google-auth-oauthlib<0.5,>=0.4.1->tensorboard<2.9,>=2.8->tensorflow) (1.3.1)\n",
            "Requirement already satisfied: importlib-metadata>=4.4 in c:\\users\\jetca\\miniconda3\\envs\\isd\\lib\\site-packages (from markdown>=2.6.8->tensorboard<2.9,>=2.8->tensorflow) (4.11.3)\n",
            "Requirement already satisfied: zipp>=0.5 in c:\\users\\jetca\\miniconda3\\envs\\isd\\lib\\site-packages (from importlib-metadata>=4.4->markdown>=2.6.8->tensorboard<2.9,>=2.8->tensorflow) (3.8.0)\n",
            "Requirement already satisfied: pyasn1<0.5.0,>=0.4.6 in c:\\users\\jetca\\miniconda3\\envs\\isd\\lib\\site-packages (from pyasn1-modules>=0.2.1->google-auth<3,>=1.6.3->tensorboard<2.9,>=2.8->tensorflow) (0.4.8)\n",
            "Requirement already satisfied: charset-normalizer~=2.0.0 in c:\\users\\jetca\\miniconda3\\envs\\isd\\lib\\site-packages (from requests<3,>=2.21.0->tensorboard<2.9,>=2.8->tensorflow) (2.0.12)\n",
            "Requirement already satisfied: idna<4,>=2.5 in c:\\users\\jetca\\miniconda3\\envs\\isd\\lib\\site-packages (from requests<3,>=2.21.0->tensorboard<2.9,>=2.8->tensorflow) (3.3)\n",
            "Requirement already satisfied: certifi>=2017.4.17 in c:\\users\\jetca\\miniconda3\\envs\\isd\\lib\\site-packages (from requests<3,>=2.21.0->tensorboard<2.9,>=2.8->tensorflow) (2020.12.5)\n",
            "Requirement already satisfied: urllib3<1.27,>=1.21.1 in c:\\users\\jetca\\miniconda3\\envs\\isd\\lib\\site-packages (from requests<3,>=2.21.0->tensorboard<2.9,>=2.8->tensorflow) (1.26.9)\n",
            "Requirement already satisfied: oauthlib>=3.0.0 in c:\\users\\jetca\\miniconda3\\envs\\isd\\lib\\site-packages (from requests-oauthlib>=0.7.0->google-auth-oauthlib<0.5,>=0.4.1->tensorboard<2.9,>=2.8->tensorflow) (3.2.0)\n",
            "Note: you may need to restart the kernel to use updated packages.\n",
            "Requirement already satisfied: keras in c:\\users\\jetca\\miniconda3\\envs\\isd\\lib\\site-packages (2.8.0)\n",
            "Note: you may need to restart the kernel to use updated packages.\n"
          ]
        }
      ],
      "source": [
        "%pip install tensorflow --upgrade\n",
        "%pip install keras --upgrade\n",
        "\n",
        "import numpy as np\n",
        "from matplotlib import pyplot as pl\n",
        "\n",
        "from keras.datasets import mnist\n",
        "from keras.models import Sequential\n",
        "from keras.layers.core import Dense, Dropout\n",
        "from tensorflow.keras.optimizers import RMSprop\n",
        "from keras.utils import np_utils\n",
        "from sklearn import metrics as me\n",
        "from sklearn.metrics import ConfusionMatrixDisplay\n",
        "\n",
        "%matplotlib inline"
      ]
    },
    {
      "cell_type": "markdown",
      "metadata": {
        "id": "Vy0wRnm2bUde"
      },
      "source": [
        "## Using raw data to train a MLP\n",
        "First load the `mnist` dataset and normalize it to be in the range [0, 1]"
      ]
    },
    {
      "cell_type": "code",
      "execution_count": 60,
      "metadata": {
        "colab": {
          "base_uri": "https://localhost:8080/",
          "height": 51
        },
        "id": "8CKuJwcibUdi",
        "outputId": "62b6c3c9-af3b-4769-c557-cd6c74afcefe"
      },
      "outputs": [
        {
          "name": "stdout",
          "output_type": "stream",
          "text": [
            "60000 train samples\n",
            "10000 test samples\n"
          ]
        }
      ],
      "source": [
        "(X_train, y_train), (X_test, y_test) = mnist.load_data()\n",
        "\n",
        "X_train = X_train.reshape(60000, 784)\n",
        "X_test = X_test.reshape(10000, 784)\n",
        "X_train = X_train.astype('float32')\n",
        "X_test = X_test.astype('float32')\n",
        "X_train /= 255\n",
        "X_test /= 255\n",
        "print(X_train.shape[0], 'train samples')\n",
        "print(X_test.shape[0], 'test samples')\n",
        "\n",
        "n_classes = 10\n",
        "# convert class vectors to binary class matrices\n",
        "Y_train = np_utils.to_categorical(y_train, n_classes)\n",
        "Y_test = np_utils.to_categorical(y_test, n_classes)"
      ]
    },
    {
      "cell_type": "markdown",
      "metadata": {
        "id": "01XwVeDNbUdv"
      },
      "source": [
        "Create the MLP"
      ]
    },
    {
      "cell_type": "code",
      "execution_count": 61,
      "metadata": {
        "colab": {
          "base_uri": "https://localhost:8080/",
          "height": 221
        },
        "id": "DNgzrBJEbUd0",
        "outputId": "f34f82a1-cd6b-474f-8186-a0c61f81a08c"
      },
      "outputs": [
        {
          "name": "stdout",
          "output_type": "stream",
          "text": [
            "Model: \"sequential_11\"\n",
            "_________________________________________________________________\n",
            " Layer (type)                Output Shape              Param #   \n",
            "=================================================================\n",
            " dense_22 (Dense)            (None, 900)               706500    \n",
            "                                                                 \n",
            " dropout_6 (Dropout)         (None, 900)               0         \n",
            "                                                                 \n",
            " dense_23 (Dense)            (None, 10)                9010      \n",
            "                                                                 \n",
            "=================================================================\n",
            "Total params: 715,510\n",
            "Trainable params: 715,510\n",
            "Non-trainable params: 0\n",
            "_________________________________________________________________\n"
          ]
        }
      ],
      "source": [
        "model = Sequential()\n",
        "model.add(Dense(900, input_shape=(784,), activation='relu'))\n",
        "model.add(Dropout(0.5))\n",
        "model.add(Dense(n_classes, activation='softmax'))\n",
        "\n",
        "model.summary()"
      ]
    },
    {
      "cell_type": "markdown",
      "metadata": {
        "id": "Peiq9GR2bUeN"
      },
      "source": [
        "Define some constants and train the MLP"
      ]
    },
    {
      "cell_type": "code",
      "execution_count": 62,
      "metadata": {
        "colab": {
          "base_uri": "https://localhost:8080/",
          "height": 374
        },
        "id": "NBt-ReqIbUeR",
        "outputId": "b1e07312-0ddd-4a6c-a52d-c762dda98b1b"
      },
      "outputs": [
        {
          "name": "stdout",
          "output_type": "stream",
          "text": [
            "Epoch 1/10\n",
            "469/469 [==============================] - 6s 13ms/step - loss: 0.2843 - accuracy: 0.9164 - val_loss: 0.1308 - val_accuracy: 0.9599\n",
            "Epoch 2/10\n",
            "469/469 [==============================] - 5s 12ms/step - loss: 0.1346 - accuracy: 0.9604 - val_loss: 0.0946 - val_accuracy: 0.9721\n",
            "Epoch 3/10\n",
            "469/469 [==============================] - 6s 12ms/step - loss: 0.1026 - accuracy: 0.9696 - val_loss: 0.0830 - val_accuracy: 0.9753\n",
            "Epoch 4/10\n",
            "469/469 [==============================] - 6s 13ms/step - loss: 0.0847 - accuracy: 0.9744 - val_loss: 0.0721 - val_accuracy: 0.9784\n",
            "Epoch 5/10\n",
            "469/469 [==============================] - 6s 13ms/step - loss: 0.0737 - accuracy: 0.9788 - val_loss: 0.0738 - val_accuracy: 0.9797\n",
            "Epoch 6/10\n",
            "469/469 [==============================] - 6s 13ms/step - loss: 0.0654 - accuracy: 0.9804 - val_loss: 0.0678 - val_accuracy: 0.9820\n",
            "Epoch 7/10\n",
            "469/469 [==============================] - 6s 13ms/step - loss: 0.0588 - accuracy: 0.9823 - val_loss: 0.0656 - val_accuracy: 0.9818\n",
            "Epoch 8/10\n",
            "469/469 [==============================] - 6s 13ms/step - loss: 0.0531 - accuracy: 0.9842 - val_loss: 0.0696 - val_accuracy: 0.9811\n",
            "Epoch 9/10\n",
            "469/469 [==============================] - 6s 13ms/step - loss: 0.0510 - accuracy: 0.9855 - val_loss: 0.0646 - val_accuracy: 0.9833\n",
            "Epoch 10/10\n",
            "469/469 [==============================] - 6s 14ms/step - loss: 0.0475 - accuracy: 0.9867 - val_loss: 0.0693 - val_accuracy: 0.9831\n"
          ]
        }
      ],
      "source": [
        "batch_size = 128\n",
        "n_epoch = 10\n",
        "\n",
        "model.compile(loss='categorical_crossentropy', optimizer=RMSprop(), metrics=['accuracy'])\n",
        "history = model.fit(X_train, Y_train,\n",
        "                    batch_size=batch_size, epochs=n_epoch,\n",
        "                    verbose=1, validation_data=(X_test, Y_test))"
      ]
    },
    {
      "cell_type": "markdown",
      "metadata": {
        "id": "7u_zpHr5bUeb"
      },
      "source": [
        "Show the performance of the model"
      ]
    },
    {
      "cell_type": "code",
      "execution_count": 63,
      "metadata": {
        "colab": {
          "base_uri": "https://localhost:8080/",
          "height": 299
        },
        "id": "PHXi21E1bUef",
        "outputId": "b153b1ab-4795-4704-b1a3-f28d4d636043"
      },
      "outputs": [
        {
          "name": "stdout",
          "output_type": "stream",
          "text": [
            "Test score: 0.0693397969007492\n",
            "Test accuracy: 0.9830999970436096\n"
          ]
        },
        {
          "data": {
            "image/png": "[encoded data removed]",
            "text/plain": [
              "<Figure size 432x288 with 1 Axes>"
            ]
          },
          "metadata": {
            "needs_background": "light"
          },
          "output_type": "display_data"
        }
      ],
      "source": [
        "pl.plot(history.history['loss'], label='Training')\n",
        "pl.plot(history.history['val_loss'], label='Testing')\n",
        "pl.legend()\n",
        "pl.grid()\n",
        "\n",
        "score = model.evaluate(X_test, Y_test, verbose=0)\n",
        "print('Test score:', score[0])\n",
        "print('Test accuracy:', score[1])"
      ]
    },
    {
      "cell_type": "markdown",
      "metadata": {
        "id": "jLuFK6MobUet"
      },
      "source": [
        "Confusion matrix"
      ]
    },
    {
      "cell_type": "code",
      "execution_count": 64,
      "metadata": {
        "colab": {
          "base_uri": "https://localhost:8080/",
          "height": 187
        },
        "id": "PAjwjjrjbUex",
        "outputId": "c96b6cf1-3bb9-4056-a6ec-0f20921828c3"
      },
      "outputs": [
        {
          "data": {
            "image/png": "[encoded data removed]",
            "text/plain": [
              "<Figure size 432x288 with 2 Axes>"
            ]
          },
          "metadata": {
            "needs_background": "light"
          },
          "output_type": "display_data"
        },
        {
          "name": "stdout",
          "output_type": "stream",
          "text": [
            "[0.99082569 0.99162627 0.98262548 0.97991181 0.98178138 0.98369871\n",
            " 0.98638743 0.98010674 0.97823834 0.975     ]\n"
          ]
        }
      ],
      "source": [
        "pred = model.predict(X_test)\n",
        "pred = np.argmax(pred, axis=-1)\n",
        "cm = me.confusion_matrix(y_test, pred)\n",
        "\n",
        "disp = ConfusionMatrixDisplay(confusion_matrix=cm)\n",
        "disp.plot()\n",
        "pl.show()\n",
        "\n",
        "# Compute the F1 score for each class\n",
        "f1_score = me.f1_score(y_test, pred, average=None)\n",
        "print(f1_score)\n"
      ]
    }
  ],
  "metadata": {
    "accelerator": "GPU",
    "colab": {
      "collapsed_sections": [],
      "name": "MLP_from_raw_data.ipynb",
      "provenance": []
    },
    "interpreter": {
      "hash": "01ca39ea2da14f95b0aa61ce13b22f5a8b85b7bd33fee00fa5cdfe30c3580ab9"
    },
    "kernelspec": {
      "display_name": "Python 3.9.1 ('isd')",
      "language": "python",
      "name": "python3"
    },
    "language_info": {
      "codemirror_mode": {
        "name": "ipython",
        "version": 3
      },
      "file_extension": ".py",
      "mimetype": "text/x-python",
      "name": "python",
      "nbconvert_exporter": "python",
      "pygments_lexer": "ipython3",
      "version": "3.9.1"
    }
  },
  "nbformat": 4,
  "nbformat_minor": 0
}

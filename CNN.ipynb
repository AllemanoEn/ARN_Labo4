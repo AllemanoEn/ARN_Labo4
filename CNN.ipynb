{
  "cells": [
    {
      "cell_type": "markdown",
      "metadata": {
        "id": "HkLUJVa1bfNW"
      },
      "source": [
        "# Convolutional Neural Networks\n",
        "This notebook will guide you through the use of the `keras` package to train convolutional neural networks for handwritten digits classification. You are going to use the `mnist` dataset from LeCun et al. 1998."
      ]
    },
    {
      "cell_type": "markdown",
      "metadata": {
        "id": "SjQUQygFbfNb"
      },
      "source": [
        "## Loading the packages"
      ]
    },
    {
      "cell_type": "code",
      "execution_count": 24,
      "metadata": {
        "id": "h7O8MewabfNj"
      },
      "outputs": [
        {
          "name": "stdout",
          "output_type": "stream",
          "text": [
            "Requirement already satisfied: tensorflow in c:\\users\\jetca\\miniconda3\\envs\\isd\\lib\\site-packages (2.8.0)\n",
            "Requirement already satisfied: tensorboard<2.9,>=2.8 in c:\\users\\jetca\\miniconda3\\envs\\isd\\lib\\site-packages (from tensorflow) (2.8.0)\n",
            "Requirement already satisfied: flatbuffers>=1.12 in c:\\users\\jetca\\miniconda3\\envs\\isd\\lib\\site-packages (from tensorflow) (2.0)\n",
            "Requirement already satisfied: grpcio<2.0,>=1.24.3 in c:\\users\\jetca\\miniconda3\\envs\\isd\\lib\\site-packages (from tensorflow) (1.46.0)\n",
            "Requirement already satisfied: keras-preprocessing>=1.1.1 in c:\\users\\jetca\\miniconda3\\envs\\isd\\lib\\site-packages (from tensorflow) (1.1.2)\n",
            "Requirement already satisfied: wrapt>=1.11.0 in c:\\users\\jetca\\miniconda3\\envs\\isd\\lib\\site-packages (from tensorflow) (1.14.1)\n",
            "Requirement already satisfied: libclang>=9.0.1 in c:\\users\\jetca\\miniconda3\\envs\\isd\\lib\\site-packages (from tensorflow) (14.0.1)\n",
            "Requirement already satisfied: tensorflow-io-gcs-filesystem>=0.23.1 in c:\\users\\jetca\\miniconda3\\envs\\isd\\lib\\site-packages (from tensorflow) (0.25.0)\n",
            "Requirement already satisfied: keras<2.9,>=2.8.0rc0 in c:\\users\\jetca\\miniconda3\\envs\\isd\\lib\\site-packages (from tensorflow) (2.8.0)\n",
            "Requirement already satisfied: protobuf>=3.9.2 in c:\\users\\jetca\\miniconda3\\envs\\isd\\lib\\site-packages (from tensorflow) (3.20.1)\n",
            "Requirement already satisfied: typing-extensions>=3.6.6 in c:\\users\\jetca\\miniconda3\\envs\\isd\\lib\\site-packages (from tensorflow) (4.2.0)\n",
            "Requirement already satisfied: tf-estimator-nightly==2.8.0.dev2021122109 in c:\\users\\jetca\\miniconda3\\envs\\isd\\lib\\site-packages (from tensorflow) (2.8.0.dev2021122109)\n",
            "Requirement already satisfied: termcolor>=1.1.0 in c:\\users\\jetca\\miniconda3\\envs\\isd\\lib\\site-packages (from tensorflow) (1.1.0)\n",
            "Requirement already satisfied: numpy>=1.20 in c:\\users\\jetca\\miniconda3\\envs\\isd\\lib\\site-packages (from tensorflow) (1.20.1)\n",
            "Requirement already satisfied: opt-einsum>=2.3.2 in c:\\users\\jetca\\miniconda3\\envs\\isd\\lib\\site-packages (from tensorflow) (3.3.0)\n",
            "Requirement already satisfied: h5py>=2.9.0 in c:\\users\\jetca\\miniconda3\\envs\\isd\\lib\\site-packages (from tensorflow) (3.6.0)\n",
            "Requirement already satisfied: six>=1.12.0 in c:\\users\\jetca\\miniconda3\\envs\\isd\\lib\\site-packages (from tensorflow) (1.15.0)\n",
            "Requirement already satisfied: astunparse>=1.6.0 in c:\\users\\jetca\\miniconda3\\envs\\isd\\lib\\site-packages (from tensorflow) (1.6.3)\n",
            "Requirement already satisfied: google-pasta>=0.1.1 in c:\\users\\jetca\\miniconda3\\envs\\isd\\lib\\site-packages (from tensorflow) (0.2.0)\n",
            "Requirement already satisfied: gast>=0.2.1 in c:\\users\\jetca\\miniconda3\\envs\\isd\\lib\\site-packages (from tensorflow) (0.5.3)\n",
            "Requirement already satisfied: absl-py>=0.4.0 in c:\\users\\jetca\\miniconda3\\envs\\isd\\lib\\site-packages (from tensorflow) (1.0.0)\n",
            "Requirement already satisfied: setuptools in c:\\users\\jetca\\miniconda3\\envs\\isd\\lib\\site-packages (from tensorflow) (52.0.0.post20210125)\n",
            "Requirement already satisfied: wheel<1.0,>=0.23.0 in c:\\users\\jetca\\miniconda3\\envs\\isd\\lib\\site-packages (from astunparse>=1.6.0->tensorflow) (0.36.2)\n",
            "Requirement already satisfied: google-auth-oauthlib<0.5,>=0.4.1 in c:\\users\\jetca\\miniconda3\\envs\\isd\\lib\\site-packages (from tensorboard<2.9,>=2.8->tensorflow) (0.4.6)\n",
            "Requirement already satisfied: requests<3,>=2.21.0 in c:\\users\\jetca\\miniconda3\\envs\\isd\\lib\\site-packages (from tensorboard<2.9,>=2.8->tensorflow) (2.27.1)\n",
            "Requirement already satisfied: tensorboard-plugin-wit>=1.6.0 in c:\\users\\jetca\\miniconda3\\envs\\isd\\lib\\site-packages (from tensorboard<2.9,>=2.8->tensorflow) (1.8.1)\n",
            "Requirement already satisfied: werkzeug>=0.11.15 in c:\\users\\jetca\\miniconda3\\envs\\isd\\lib\\site-packages (from tensorboard<2.9,>=2.8->tensorflow) (2.1.2)\n",
            "Requirement already satisfied: google-auth<3,>=1.6.3 in c:\\users\\jetca\\miniconda3\\envs\\isd\\lib\\site-packages (from tensorboard<2.9,>=2.8->tensorflow) (2.6.6)\n",
            "Requirement already satisfied: tensorboard-data-server<0.7.0,>=0.6.0 in c:\\users\\jetca\\miniconda3\\envs\\isd\\lib\\site-packages (from tensorboard<2.9,>=2.8->tensorflow) (0.6.1)\n",
            "Requirement already satisfied: markdown>=2.6.8 in c:\\users\\jetca\\miniconda3\\envs\\isd\\lib\\site-packages (from tensorboard<2.9,>=2.8->tensorflow) (3.3.7)\n",
            "Requirement already satisfied: rsa<5,>=3.1.4 in c:\\users\\jetca\\miniconda3\\envs\\isd\\lib\\site-packages (from google-auth<3,>=1.6.3->tensorboard<2.9,>=2.8->tensorflow) (4.8)\n",
            "Requirement already satisfied: cachetools<6.0,>=2.0.0 in c:\\users\\jetca\\miniconda3\\envs\\isd\\lib\\site-packages (from google-auth<3,>=1.6.3->tensorboard<2.9,>=2.8->tensorflow) (5.0.0)\n",
            "Requirement already satisfied: pyasn1-modules>=0.2.1 in c:\\users\\jetca\\miniconda3\\envs\\isd\\lib\\site-packages (from google-auth<3,>=1.6.3->tensorboard<2.9,>=2.8->tensorflow) (0.2.8)\n",
            "Requirement already satisfied: requests-oauthlib>=0.7.0 in c:\\users\\jetca\\miniconda3\\envs\\isd\\lib\\site-packages (from google-auth-oauthlib<0.5,>=0.4.1->tensorboard<2.9,>=2.8->tensorflow) (1.3.1)\n",
            "Requirement already satisfied: importlib-metadata>=4.4 in c:\\users\\jetca\\miniconda3\\envs\\isd\\lib\\site-packages (from markdown>=2.6.8->tensorboard<2.9,>=2.8->tensorflow) (4.11.3)\n",
            "Requirement already satisfied: zipp>=0.5 in c:\\users\\jetca\\miniconda3\\envs\\isd\\lib\\site-packages (from importlib-metadata>=4.4->markdown>=2.6.8->tensorboard<2.9,>=2.8->tensorflow) (3.8.0)\n",
            "Requirement already satisfied: pyasn1<0.5.0,>=0.4.6 in c:\\users\\jetca\\miniconda3\\envs\\isd\\lib\\site-packages (from pyasn1-modules>=0.2.1->google-auth<3,>=1.6.3->tensorboard<2.9,>=2.8->tensorflow) (0.4.8)\n",
            "Requirement already satisfied: urllib3<1.27,>=1.21.1 in c:\\users\\jetca\\miniconda3\\envs\\isd\\lib\\site-packages (from requests<3,>=2.21.0->tensorboard<2.9,>=2.8->tensorflow) (1.26.9)\n",
            "Requirement already satisfied: certifi>=2017.4.17 in c:\\users\\jetca\\miniconda3\\envs\\isd\\lib\\site-packages (from requests<3,>=2.21.0->tensorboard<2.9,>=2.8->tensorflow) (2020.12.5)\n",
            "Requirement already satisfied: charset-normalizer~=2.0.0 in c:\\users\\jetca\\miniconda3\\envs\\isd\\lib\\site-packages (from requests<3,>=2.21.0->tensorboard<2.9,>=2.8->tensorflow) (2.0.12)\n",
            "Requirement already satisfied: idna<4,>=2.5 in c:\\users\\jetca\\miniconda3\\envs\\isd\\lib\\site-packages (from requests<3,>=2.21.0->tensorboard<2.9,>=2.8->tensorflow) (3.3)\n",
            "Requirement already satisfied: oauthlib>=3.0.0 in c:\\users\\jetca\\miniconda3\\envs\\isd\\lib\\site-packages (from requests-oauthlib>=0.7.0->google-auth-oauthlib<0.5,>=0.4.1->tensorboard<2.9,>=2.8->tensorflow) (3.2.0)\n",
            "Note: you may need to restart the kernel to use updated packages.\n",
            "Requirement already satisfied: keras in c:\\users\\jetca\\miniconda3\\envs\\isd\\lib\\site-packages (2.8.0)\n",
            "Note: you may need to restart the kernel to use updated packages.\n"
          ]
        }
      ],
      "source": [
        "%pip install tensorflow --upgrade\n",
        "%pip install keras --upgrade\n",
        "\n",
        "import numpy as np\n",
        "from matplotlib import pyplot as pl\n",
        "\n",
        "from keras.datasets import mnist\n",
        "from keras.models import Model\n",
        "from keras.layers.core import Dense, Dropout, Flatten\n",
        "from tensorflow.keras.optimizers import RMSprop\n",
        "from keras.utils import np_utils\n",
        "from keras.layers.convolutional import Conv2D, MaxPooling2D\n",
        "from keras.layers import Input\n",
        "from sklearn import metrics as me\n",
        "from scipy import stats\n",
        "\n",
        "from sklearn.metrics import ConfusionMatrixDisplay\n",
        "\n",
        "%matplotlib inline"
      ]
    },
    {
      "cell_type": "markdown",
      "metadata": {
        "id": "vbttXt8SbfOH"
      },
      "source": [
        "First, create some useful functions"
      ]
    },
    {
      "cell_type": "code",
      "execution_count": 25,
      "metadata": {
        "id": "jAR9jPgybfOO"
      },
      "outputs": [],
      "source": [
        "def build_grid_of_images(array):\n",
        "    assert len(array.shape) == 3\n",
        "    dim_0 = np.sqrt(array.shape[0])\n",
        "    assert dim_0.is_integer()\n",
        "    \n",
        "    temp_out = np.reshape(array, (dim_0, dim_0, array.shape[1], array.shape[2]))\n",
        "    temp_out = np.rollaxis(temp_out, 1, 3)\n",
        "    return np.reshape(temp_out, (dim_0*array.shape[1], dim_0*array.shape[2]))\n",
        "\n",
        "def plot_conv_layer_output(temp_out, title):\n",
        "    temp_to_plot = build_grid_of_images(temp_out)\n",
        "    pl.imshow(temp_to_plot, interpolation='nearest', cmap=pl.get_cmap('Greys'))\n",
        "    ax = pl.gca()\n",
        "    ax.set_xticks(np.arange(-0.5, temp_to_plot.shape[0]+0.5, temp_out.shape[1]))    \n",
        "    ax.set_yticks(np.arange(-0.5, temp_to_plot.shape[0]+0.5, temp_out.shape[2]))\n",
        "    pl.grid()\n",
        "    pl.tick_params(axis='both', which='both', bottom='off', top='off', left='off', right='off', labelbottom='off', labelleft='off')\n",
        "    pl.title(title)\n",
        "\n",
        "def plot_dense_layer_output(temp_out, title):\n",
        "    pl.bar(np.arange(temp_out.shape[1])-0.4, temp_out[0,:])\n",
        "    pl.xlim(-0.5, temp_out.shape[1])\n",
        "    pl.grid()\n",
        "    pl.title(title)"
      ]
    },
    {
      "cell_type": "markdown",
      "metadata": {
        "id": "3fVOW4jGbfOb"
      },
      "source": [
        "Load the `mnist` dataset and normalize in the range [0, 1]"
      ]
    },
    {
      "cell_type": "code",
      "execution_count": 26,
      "metadata": {
        "colab": {
          "base_uri": "https://localhost:8080/",
          "height": 85
        },
        "id": "2H2K3S4MbfOf",
        "outputId": "87306b90-6068-49ae-d1c2-5d5ea69927e2"
      },
      "outputs": [
        {
          "name": "stdout",
          "output_type": "stream",
          "text": [
            "60000 train samples\n",
            "10000 test samples\n"
          ]
        }
      ],
      "source": [
        "(X_train, y_train), (X_test, y_test) = mnist.load_data()\n",
        "\n",
        "n_train, height, width = X_train.shape\n",
        "n_test, _, _ = X_test.shape\n",
        "\n",
        "X_train = X_train.reshape(n_train, height, width, 1).astype('float32')\n",
        "X_test = X_test.reshape(n_test, height, width, 1).astype('float32')\n",
        "\n",
        "X_train /= 255.0\n",
        "X_test /= 255.0\n",
        "\n",
        "n_classes = 10\n",
        "\n",
        "print(n_train, 'train samples')\n",
        "print(n_test, 'test samples')\n",
        "\n",
        "# convert class vectors to binary class matrices\n",
        "Y_train = np_utils.to_categorical(y_train, n_classes)\n",
        "Y_test = np_utils.to_categorical(y_test, n_classes)"
      ]
    },
    {
      "cell_type": "markdown",
      "metadata": {
        "id": "2B-WNiQUbfOq"
      },
      "source": [
        "Create the CNN and show its architecture"
      ]
    },
    {
      "cell_type": "code",
      "execution_count": 27,
      "metadata": {
        "colab": {
          "base_uri": "https://localhost:8080/",
          "height": 493
        },
        "id": "yhOscSNPbfOt",
        "outputId": "6e1a0da0-e48f-4fd1-eb5c-dadacdad548a"
      },
      "outputs": [
        {
          "name": "stdout",
          "output_type": "stream",
          "text": [
            "Model: \"model_5\"\n",
            "_________________________________________________________________\n",
            " Layer (type)                Output Shape              Param #   \n",
            "=================================================================\n",
            " l0 (InputLayer)             [(None, 28, 28, 1)]       0         \n",
            "                                                                 \n",
            " l1 (Conv2D)                 (None, 28, 28, 18)        468       \n",
            "                                                                 \n",
            " l1_mp (MaxPooling2D)        (None, 14, 14, 18)        0         \n",
            "                                                                 \n",
            " l2 (Conv2D)                 (None, 14, 14, 18)        8118      \n",
            "                                                                 \n",
            " l2_mp (MaxPooling2D)        (None, 7, 7, 18)          0         \n",
            "                                                                 \n",
            " l3 (Conv2D)                 (None, 7, 7, 32)          5216      \n",
            "                                                                 \n",
            " l3_mp (MaxPooling2D)        (None, 3, 3, 32)          0         \n",
            "                                                                 \n",
            " flat (Flatten)              (None, 288)               0         \n",
            "                                                                 \n",
            " l4 (Dense)                  (None, 75)                21675     \n",
            "                                                                 \n",
            " l5 (Dense)                  (None, 10)                760       \n",
            "                                                                 \n",
            "=================================================================\n",
            "Total params: 36,237\n",
            "Trainable params: 36,237\n",
            "Non-trainable params: 0\n",
            "_________________________________________________________________\n"
          ]
        }
      ],
      "source": [
        "l0 = Input(shape=(height, width, 1), name='l0')\n",
        "\n",
        "l1 = Conv2D(18, (5, 5), padding='same', activation='relu', name='l1')(l0)\n",
        "l1_mp = MaxPooling2D(pool_size=(2, 2), name='l1_mp')(l1)\n",
        "\n",
        "l2 = Conv2D(18, (5, 5), padding='same', activation='relu', name='l2')(l1_mp)\n",
        "l2_mp = MaxPooling2D(pool_size=(2, 2), name='l2_mp')(l2)\n",
        "\n",
        "l3 = Conv2D(32, (3, 3), padding='same', activation='relu', name='l3')(l2_mp)\n",
        "l3_mp = MaxPooling2D(pool_size=(2, 2), name='l3_mp')(l3)\n",
        "\n",
        "flat = Flatten(name='flat')(l3_mp)\n",
        "\n",
        "l4 = Dense(75, activation='relu', name='l4')(flat)\n",
        "\n",
        "l5 = Dense(n_classes, activation='softmax', name='l5')(l4)\n",
        "\n",
        "model = Model(inputs=l0, outputs=l5)\n",
        "model.summary()"
      ]
    },
    {
      "cell_type": "markdown",
      "metadata": {
        "id": "sP_cugPCbfO6"
      },
      "source": [
        "Define some constants and train de CNN"
      ]
    },
    {
      "cell_type": "code",
      "execution_count": 28,
      "metadata": {
        "colab": {
          "base_uri": "https://localhost:8080/",
          "height": 374
        },
        "id": "l8eKqD80bfPB",
        "outputId": "bb20620f-70c6-4330-8c5f-d67cb5176464"
      },
      "outputs": [
        {
          "name": "stdout",
          "output_type": "stream",
          "text": [
            "Epoch 1/10\n",
            "469/469 [==============================] - 39s 82ms/step - loss: 0.3126 - accuracy: 0.9034 - val_loss: 0.0777 - val_accuracy: 0.9755\n",
            "Epoch 2/10\n",
            "469/469 [==============================] - 41s 88ms/step - loss: 0.0780 - accuracy: 0.9758 - val_loss: 0.0780 - val_accuracy: 0.9751\n",
            "Epoch 3/10\n",
            "469/469 [==============================] - 41s 88ms/step - loss: 0.0525 - accuracy: 0.9833 - val_loss: 0.0485 - val_accuracy: 0.9848\n",
            "Epoch 4/10\n",
            "469/469 [==============================] - 44s 94ms/step - loss: 0.0401 - accuracy: 0.9873 - val_loss: 0.0691 - val_accuracy: 0.9767\n",
            "Epoch 5/10\n",
            "469/469 [==============================] - 43s 92ms/step - loss: 0.0325 - accuracy: 0.9895 - val_loss: 0.0291 - val_accuracy: 0.9911\n",
            "Epoch 6/10\n",
            "469/469 [==============================] - 45s 96ms/step - loss: 0.0276 - accuracy: 0.9908 - val_loss: 0.0258 - val_accuracy: 0.9908\n",
            "Epoch 7/10\n",
            "469/469 [==============================] - 40s 86ms/step - loss: 0.0231 - accuracy: 0.9928 - val_loss: 0.0226 - val_accuracy: 0.9920\n",
            "Epoch 8/10\n",
            "469/469 [==============================] - 34s 73ms/step - loss: 0.0199 - accuracy: 0.9938 - val_loss: 0.0633 - val_accuracy: 0.9800\n",
            "Epoch 9/10\n",
            "469/469 [==============================] - 42s 89ms/step - loss: 0.0167 - accuracy: 0.9945 - val_loss: 0.0293 - val_accuracy: 0.9917\n",
            "Epoch 10/10\n",
            "469/469 [==============================] - 35s 75ms/step - loss: 0.0147 - accuracy: 0.9950 - val_loss: 0.0277 - val_accuracy: 0.9919\n"
          ]
        }
      ],
      "source": [
        "batch_size = 128\n",
        "n_epoch = 10\n",
        "\n",
        "model.compile(loss='categorical_crossentropy', optimizer=RMSprop(), metrics=['accuracy'])\n",
        "history = model.fit(X_train, Y_train, batch_size=batch_size, epochs=n_epoch, verbose=1, validation_data=(X_test, Y_test))"
      ]
    },
    {
      "cell_type": "markdown",
      "metadata": {
        "id": "IBX2Tc_0bfPK"
      },
      "source": [
        "Show the performance of the model"
      ]
    },
    {
      "cell_type": "code",
      "execution_count": 29,
      "metadata": {
        "colab": {
          "base_uri": "https://localhost:8080/",
          "height": 299
        },
        "id": "WeaMjl-EbfPS",
        "outputId": "e219b778-8eb2-4fd9-a2f5-baaa3d936a3f"
      },
      "outputs": [
        {
          "name": "stdout",
          "output_type": "stream",
          "text": [
            "Test score: 0.02767784334719181\n",
            "Test accuracy: 0.9919000267982483\n"
          ]
        },
        {
          "data": {
            "image/png": "[encoded data removed]",
            "text/plain": [
              "<Figure size 432x288 with 1 Axes>"
            ]
          },
          "metadata": {
            "needs_background": "light"
          },
          "output_type": "display_data"
        }
      ],
      "source": [
        "pl.plot(history.history['loss'], label='Training')\n",
        "pl.plot(history.history['val_loss'], label='Testing')\n",
        "pl.legend()\n",
        "pl.grid()\n",
        "\n",
        "score = model.evaluate(X_test, Y_test, verbose=0)\n",
        "print('Test score:', score[0])\n",
        "print('Test accuracy:', score[1])"
      ]
    },
    {
      "cell_type": "markdown",
      "metadata": {
        "id": "rXNZ2ZHSbfPm"
      },
      "source": [
        "Confusion matrix"
      ]
    },
    {
      "cell_type": "code",
      "execution_count": 30,
      "metadata": {
        "colab": {
          "base_uri": "https://localhost:8080/",
          "height": 187
        },
        "id": "XfgRipFebfPm",
        "outputId": "b435b340-a409-423f-bd5a-d989f6f76a8a"
      },
      "outputs": [
        {
          "data": {
            "image/png": "[encoded data removed]",
            "text/plain": [
              "<Figure size 432x288 with 2 Axes>"
            ]
          },
          "metadata": {
            "needs_background": "light"
          },
          "output_type": "display_data"
        },
        {
          "name": "stdout",
          "output_type": "stream",
          "text": [
            "[0.99339766 0.99430075 0.99072718 0.9950544  0.99090909 0.99213483\n",
            " 0.99002625 0.99222546 0.99127758 0.98854011]\n"
          ]
        }
      ],
      "source": [
        "pred = model.predict_on_batch(X_test)\n",
        "pred = np.argmax(pred, axis=-1)\n",
        "cm = me.confusion_matrix(y_test, pred)\n",
        "\n",
        "disp = ConfusionMatrixDisplay(confusion_matrix=cm)\n",
        "disp.plot()\n",
        "pl.show()\n",
        "\n",
        "# Compute the F1 score for each class\n",
        "f1_score = me.f1_score(y_test, pred, average=None)\n",
        "print(f1_score)"
      ]
    }
  ],
  "metadata": {
    "accelerator": "GPU",
    "colab": {
      "collapsed_sections": [],
      "name": "CNN.ipynb",
      "provenance": []
    },
    "interpreter": {
      "hash": "01ca39ea2da14f95b0aa61ce13b22f5a8b85b7bd33fee00fa5cdfe30c3580ab9"
    },
    "kernelspec": {
      "display_name": "Python 3.9.1 ('isd')",
      "language": "python",
      "name": "python3"
    },
    "language_info": {
      "codemirror_mode": {
        "name": "ipython",
        "version": 3
      },
      "file_extension": ".py",
      "mimetype": "text/x-python",
      "name": "python",
      "nbconvert_exporter": "python",
      "pygments_lexer": "ipython3",
      "version": "3.9.1"
    }
  },
  "nbformat": 4,
  "nbformat_minor": 0
}
